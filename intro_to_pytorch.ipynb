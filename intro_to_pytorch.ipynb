{
  "nbformat": 4,
  "nbformat_minor": 0,
  "metadata": {
    "colab": {
      "provenance": [],
      "authorship_tag": "ABX9TyNaY9LnR4gQJH1wbij95Sv4",
      "include_colab_link": true
    },
    "kernelspec": {
      "name": "python3",
      "display_name": "Python 3"
    },
    "language_info": {
      "name": "python"
    }
  },
  "cells": [
    {
      "cell_type": "markdown",
      "metadata": {
        "id": "view-in-github",
        "colab_type": "text"
      },
      "source": [
        "<a href=\"https://colab.research.google.com/github/LeoMcBills/100-days-ML-Algo-Research/blob/main/intro_to_pytorch.ipynb\" target=\"_parent\"><img src=\"https://colab.research.google.com/assets/colab-badge.svg\" alt=\"Open In Colab\"/></a>"
      ]
    },
    {
      "cell_type": "markdown",
      "source": [
        "## Torch basics"
      ],
      "metadata": {
        "id": "2-_j5WrY7K5P"
      }
    },
    {
      "cell_type": "code",
      "execution_count": 1,
      "metadata": {
        "id": "r_3BK2yo5lG9"
      },
      "outputs": [],
      "source": [
        "import torch"
      ]
    },
    {
      "cell_type": "code",
      "source": [
        "x = torch.empty(5, 3)\n",
        "print(x)"
      ],
      "metadata": {
        "colab": {
          "base_uri": "https://localhost:8080/"
        },
        "id": "fhi_pdjm7T3n",
        "outputId": "3b5247d7-7a34-434b-c9ad-80547c426251"
      },
      "execution_count": 2,
      "outputs": [
        {
          "output_type": "stream",
          "name": "stdout",
          "text": [
            "tensor([[ 5.6634e+37,  4.3692e-41,  5.6634e+37],\n",
            "        [ 4.3692e-41, -6.6112e-30,  4.3691e-41],\n",
            "        [-6.6113e-30,  4.3691e-41, -6.6197e-30],\n",
            "        [ 4.3691e-41, -6.6198e-30,  4.3691e-41],\n",
            "        [-6.6199e-30,  4.3691e-41, -6.6199e-30]])\n"
          ]
        }
      ]
    },
    {
      "cell_type": "code",
      "source": [
        "my_list = [1, 2, 3]\n",
        "x_tensor = torch.tensor(my_list)\n",
        "\n",
        "print(x_tensor)"
      ],
      "metadata": {
        "colab": {
          "base_uri": "https://localhost:8080/"
        },
        "id": "RuW8XkxL7ZI9",
        "outputId": "e4d53f37-d65a-4f72-e51b-911c20397f66"
      },
      "execution_count": 3,
      "outputs": [
        {
          "output_type": "stream",
          "name": "stdout",
          "text": [
            "tensor([1, 2, 3])\n"
          ]
        }
      ]
    },
    {
      "cell_type": "code",
      "source": [
        "x = torch.ones(2, 2, dtype=torch.int)\n",
        "print(x.dtype)"
      ],
      "metadata": {
        "colab": {
          "base_uri": "https://localhost:8080/"
        },
        "id": "bOMwUQ077l5O",
        "outputId": "29d740c1-d403-4f79-8c1a-39dfe1ceb6bd"
      },
      "execution_count": 4,
      "outputs": [
        {
          "output_type": "stream",
          "name": "stdout",
          "text": [
            "torch.int32\n"
          ]
        }
      ]
    },
    {
      "cell_type": "code",
      "source": [],
      "metadata": {
        "id": "nSxNDP8U7ys1"
      },
      "execution_count": null,
      "outputs": []
    }
  ]
}