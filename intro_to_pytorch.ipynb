{
  "nbformat": 4,
  "nbformat_minor": 0,
  "metadata": {
    "colab": {
      "provenance": [],
      "include_colab_link": true
    },
    "kernelspec": {
      "name": "python3",
      "display_name": "Python 3"
    },
    "language_info": {
      "name": "python"
    }
  },
  "cells": [
    {
      "cell_type": "markdown",
      "metadata": {
        "id": "view-in-github",
        "colab_type": "text"
      },
      "source": [
        "<a href=\"https://colab.research.google.com/github/LeoMcBills/100-days-ML-Algo-Research/blob/main/intro_to_pytorch.ipynb\" target=\"_parent\"><img src=\"https://colab.research.google.com/assets/colab-badge.svg\" alt=\"Open In Colab\"/></a>"
      ]
    },
    {
      "cell_type": "markdown",
      "source": [
        "## Torch basics"
      ],
      "metadata": {
        "id": "2-_j5WrY7K5P"
      }
    },
    {
      "cell_type": "code",
      "execution_count": null,
      "metadata": {
        "id": "r_3BK2yo5lG9"
      },
      "outputs": [],
      "source": [
        "import torch\n",
        "import numpy"
      ]
    },
    {
      "cell_type": "code",
      "source": [
        "x = torch.empty(5, 3)\n",
        "print(x)"
      ],
      "metadata": {
        "colab": {
          "base_uri": "https://localhost:8080/"
        },
        "id": "fhi_pdjm7T3n",
        "outputId": "3b5247d7-7a34-434b-c9ad-80547c426251"
      },
      "execution_count": null,
      "outputs": [
        {
          "output_type": "stream",
          "name": "stdout",
          "text": [
            "tensor([[ 5.6634e+37,  4.3692e-41,  5.6634e+37],\n",
            "        [ 4.3692e-41, -6.6112e-30,  4.3691e-41],\n",
            "        [-6.6113e-30,  4.3691e-41, -6.6197e-30],\n",
            "        [ 4.3691e-41, -6.6198e-30,  4.3691e-41],\n",
            "        [-6.6199e-30,  4.3691e-41, -6.6199e-30]])\n"
          ]
        }
      ]
    },
    {
      "cell_type": "code",
      "source": [
        "my_list = [1, 2, 3]\n",
        "x_tensor = torch.tensor(my_list)\n",
        "\n",
        "print(x_tensor)"
      ],
      "metadata": {
        "colab": {
          "base_uri": "https://localhost:8080/"
        },
        "id": "RuW8XkxL7ZI9",
        "outputId": "e4d53f37-d65a-4f72-e51b-911c20397f66"
      },
      "execution_count": null,
      "outputs": [
        {
          "output_type": "stream",
          "name": "stdout",
          "text": [
            "tensor([1, 2, 3])\n"
          ]
        }
      ]
    },
    {
      "cell_type": "code",
      "source": [
        "x = torch.ones(2, 2, dtype=torch.int)\n",
        "print(x.dtype)"
      ],
      "metadata": {
        "colab": {
          "base_uri": "https://localhost:8080/"
        },
        "id": "bOMwUQ077l5O",
        "outputId": "29d740c1-d403-4f79-8c1a-39dfe1ceb6bd"
      },
      "execution_count": null,
      "outputs": [
        {
          "output_type": "stream",
          "name": "stdout",
          "text": [
            "torch.int32\n"
          ]
        }
      ]
    },
    {
      "cell_type": "markdown",
      "source": [
        "## Torch tensor to numpy"
      ],
      "metadata": {
        "id": "QQ84KGji8Fwm"
      }
    },
    {
      "cell_type": "code",
      "source": [
        "a = torch.ones(5)\n",
        "print(a)\n",
        "\n",
        "b = a.numpy()\n",
        "print(b)"
      ],
      "metadata": {
        "colab": {
          "base_uri": "https://localhost:8080/"
        },
        "id": "nSxNDP8U7ys1",
        "outputId": "06327080-84a2-434e-c6ab-d124231469a9"
      },
      "execution_count": null,
      "outputs": [
        {
          "output_type": "stream",
          "name": "stdout",
          "text": [
            "tensor([1., 1., 1., 1., 1.])\n",
            "[1. 1. 1. 1. 1.]\n"
          ]
        }
      ]
    },
    {
      "cell_type": "markdown",
      "source": [
        "# Auto Grad"
      ],
      "metadata": {
        "id": "-3uG27uYFeja"
      }
    },
    {
      "cell_type": "code",
      "source": [
        "import torch\n",
        "\n",
        "x = torch.randn(3, requires_grad=True)\n",
        "x"
      ],
      "metadata": {
        "id": "sHWwsP-w8X-4",
        "colab": {
          "base_uri": "https://localhost:8080/"
        },
        "outputId": "ce9bee02-8493-401d-c594-9d81ddac59e7"
      },
      "execution_count": 1,
      "outputs": [
        {
          "output_type": "execute_result",
          "data": {
            "text/plain": [
              "tensor([-0.4203, -0.3532, -1.4574], requires_grad=True)"
            ]
          },
          "metadata": {},
          "execution_count": 1
        }
      ]
    },
    {
      "cell_type": "code",
      "source": [
        "print(x)"
      ],
      "metadata": {
        "colab": {
          "base_uri": "https://localhost:8080/"
        },
        "id": "D6jlg8ldFxS7",
        "outputId": "e356c470-b70d-4bbf-abbf-47077bbbe3e3"
      },
      "execution_count": 2,
      "outputs": [
        {
          "output_type": "stream",
          "name": "stdout",
          "text": [
            "tensor([-0.4203, -0.3532, -1.4574], requires_grad=True)\n"
          ]
        }
      ]
    },
    {
      "cell_type": "code",
      "source": [
        "y = x + 2\n",
        "print(y)\n",
        "z = y*y*2\n",
        "z = z.mean()\n",
        "n = z.mean()\n",
        "print(z)\n",
        "print(n)"
      ],
      "metadata": {
        "colab": {
          "base_uri": "https://localhost:8080/"
        },
        "id": "o_nGvvTFF6UL",
        "outputId": "11c2010f-a6a5-4019-af10-2585f6047555"
      },
      "execution_count": 6,
      "outputs": [
        {
          "output_type": "stream",
          "name": "stdout",
          "text": [
            "tensor([1.5797, 1.6468, 0.5426], grad_fn=<AddBackward0>)\n",
            "tensor(3.6680, grad_fn=<MeanBackward0>)\n",
            "tensor(3.6680, grad_fn=<MeanBackward0>)\n"
          ]
        }
      ]
    },
    {
      "cell_type": "code",
      "source": [
        "z.backward()\n",
        "print(x.grad)"
      ],
      "metadata": {
        "colab": {
          "base_uri": "https://localhost:8080/"
        },
        "id": "IC-aMToCGLKO",
        "outputId": "6c8210e8-2c3d-4808-f03b-677b6ccc9c7b"
      },
      "execution_count": 7,
      "outputs": [
        {
          "output_type": "stream",
          "name": "stdout",
          "text": [
            "tensor([2.1063, 2.1957, 0.7235])\n"
          ]
        }
      ]
    },
    {
      "cell_type": "markdown",
      "source": [
        "# Masking away the gradients"
      ],
      "metadata": {
        "id": "iLvNjOXuIPJH"
      }
    },
    {
      "cell_type": "code",
      "source": [
        "x = torch.randn(3, requires_grad=True)\n",
        "print(x)\n",
        "x.requires_grad_(False)\n",
        "print(x)"
      ],
      "metadata": {
        "colab": {
          "base_uri": "https://localhost:8080/"
        },
        "id": "URw-dv9XG0E_",
        "outputId": "1a477e79-fb56-4ebe-d67e-160475d0d3c0"
      },
      "execution_count": 8,
      "outputs": [
        {
          "output_type": "stream",
          "name": "stdout",
          "text": [
            "tensor([-0.8845,  1.3579, -1.1798], requires_grad=True)\n",
            "tensor([-0.8845,  1.3579, -1.1798])\n"
          ]
        }
      ]
    },
    {
      "cell_type": "code",
      "source": [
        "# Second method\n",
        "y = x.detach()\n",
        "print(y)"
      ],
      "metadata": {
        "colab": {
          "base_uri": "https://localhost:8080/"
        },
        "id": "yEH2Ge3wIjEC",
        "outputId": "0c3121cb-4ce5-459c-fe9f-8daa33000c0d"
      },
      "execution_count": 9,
      "outputs": [
        {
          "output_type": "stream",
          "name": "stdout",
          "text": [
            "tensor([-0.8845,  1.3579, -1.1798])\n"
          ]
        }
      ]
    },
    {
      "cell_type": "code",
      "source": [
        "# Third method\n",
        "with torch.no_grad():\n",
        "  y = x + 2\n",
        "  print(y)"
      ],
      "metadata": {
        "colab": {
          "base_uri": "https://localhost:8080/"
        },
        "id": "sWSOUwtJIx7U",
        "outputId": "c8765f56-34f3-4de7-a732-ec3811f5fc96"
      },
      "execution_count": 10,
      "outputs": [
        {
          "output_type": "stream",
          "name": "stdout",
          "text": [
            "tensor([1.1155, 3.3579, 0.8202])\n"
          ]
        }
      ]
    },
    {
      "cell_type": "markdown",
      "source": [
        "## Time to demo a training loop"
      ],
      "metadata": {
        "id": "smNN52-eJyiS"
      }
    },
    {
      "cell_type": "code",
      "source": [
        "weights = torch.ones(4, requires_grad=True)\n",
        "\n",
        "for epoch in range(5):\n",
        "  model_output = (weights*3).sum()\n",
        "  model_output.backward()\n",
        "  print(weights.grad)\n",
        "  weights.grad.zero_()"
      ],
      "metadata": {
        "colab": {
          "base_uri": "https://localhost:8080/"
        },
        "id": "N8kKifIGJFhw",
        "outputId": "6d050769-d3ab-44a6-aa25-922c71ac5a26"
      },
      "execution_count": 13,
      "outputs": [
        {
          "output_type": "stream",
          "name": "stdout",
          "text": [
            "tensor([3., 3., 3., 3.])\n",
            "tensor([3., 3., 3., 3.])\n",
            "tensor([3., 3., 3., 3.])\n",
            "tensor([3., 3., 3., 3.])\n",
            "tensor([3., 3., 3., 3.])\n"
          ]
        }
      ]
    },
    {
      "cell_type": "markdown",
      "source": [
        "# Calculating gradients"
      ],
      "metadata": {
        "id": "GWGkgTbbSEXA"
      }
    },
    {
      "cell_type": "code",
      "source": [
        "x = torch.tensor(1.0)\n",
        "y = torch.tensor(2.0)\n",
        "w = torch.tensor(1.0, requires_grad=True)\n",
        "\n",
        "# Forward pass and compute the loss\n",
        "y_hat = w * x\n",
        "\n",
        "# Loss\n",
        "loss = (y_hat - y)**2\n",
        "\n",
        "# compute gradient\n",
        "loss.backward()\n",
        "print(w.grad)"
      ],
      "metadata": {
        "colab": {
          "base_uri": "https://localhost:8080/"
        },
        "id": "k5mUh-AEKUFG",
        "outputId": "e7cc1f9e-a2e5-41d0-e721-900578b6a14f"
      },
      "execution_count": 16,
      "outputs": [
        {
          "output_type": "stream",
          "name": "stdout",
          "text": [
            "tensor(-2.)\n"
          ]
        }
      ]
    },
    {
      "cell_type": "markdown",
      "source": [
        "# Gradients in linear regression with numpy"
      ],
      "metadata": {
        "id": "SgA7XDK4VQq_"
      }
    },
    {
      "cell_type": "code",
      "source": [
        "import numpy as np"
      ],
      "metadata": {
        "id": "waGS5wykTGD2"
      },
      "execution_count": 17,
      "outputs": []
    },
    {
      "cell_type": "code",
      "source": [
        "x = np.array([1, 2, 3, 4], dtype=np.float32)"
      ],
      "metadata": {
        "id": "dyxXVgylVpCc"
      },
      "execution_count": 18,
      "outputs": []
    },
    {
      "cell_type": "code",
      "source": [
        "y = x * 2"
      ],
      "metadata": {
        "id": "cpRkcqCbV0ys"
      },
      "execution_count": 19,
      "outputs": []
    },
    {
      "cell_type": "code",
      "source": [
        "y"
      ],
      "metadata": {
        "colab": {
          "base_uri": "https://localhost:8080/"
        },
        "id": "bvFgt9pUV4l7",
        "outputId": "72346d0a-e5c8-4f23-9f63-f10bf5099cae"
      },
      "execution_count": 20,
      "outputs": [
        {
          "output_type": "execute_result",
          "data": {
            "text/plain": [
              "array([2., 4., 6., 8.], dtype=float32)"
            ]
          },
          "metadata": {},
          "execution_count": 20
        }
      ]
    },
    {
      "cell_type": "code",
      "source": [
        "w = 0.0\n",
        "\n",
        "# model prediction\n",
        "def forward(x):\n",
        "  return w * x"
      ],
      "metadata": {
        "id": "WxBDfX6yV5cp"
      },
      "execution_count": 21,
      "outputs": []
    },
    {
      "cell_type": "code",
      "source": [
        "# loss\n",
        "def loss(y, y_predicted):\n",
        "  return ((y_predicted-y)**2).mean()"
      ],
      "metadata": {
        "id": "mwvZ01M7WO2M"
      },
      "execution_count": 22,
      "outputs": []
    },
    {
      "cell_type": "code",
      "source": [
        "# gradient\n",
        "def gradient(x,y, y_predicted):\n",
        "  return np.dot(2*x, y_predicted-y).mean()"
      ],
      "metadata": {
        "id": "v7aJVxc8WiZb"
      },
      "execution_count": 23,
      "outputs": []
    },
    {
      "cell_type": "code",
      "source": [
        "print(f'Prediction before training: f(5) = {forward(5):.3f}')"
      ],
      "metadata": {
        "colab": {
          "base_uri": "https://localhost:8080/"
        },
        "id": "kweEav9OXHhv",
        "outputId": "ee6ac77d-038f-41b4-f115-13880ff58c2f"
      },
      "execution_count": 24,
      "outputs": [
        {
          "output_type": "stream",
          "name": "stdout",
          "text": [
            "Prediction before training: f(5) = 0.000\n"
          ]
        }
      ]
    },
    {
      "cell_type": "code",
      "source": [
        "# Training\n",
        "learning_rate = 0.01\n",
        "n_iters = 20\n",
        "\n",
        "for epoch in range(n_iters):\n",
        "  y_pred = forward(x)\n",
        "\n",
        "  # loss\n",
        "  l = loss(y, y_pred)\n",
        "\n",
        "  # gradients\n",
        "  dw = gradient(x, y, y_pred)\n",
        "\n",
        "  # update weights\n",
        "  w -= learning_rate * dw\n",
        "\n",
        "  if epoch % 1 == 0:\n",
        "    print(f'epoch {epoch+1}: w = {w:.3f}, loss = {l:.8f}')"
      ],
      "metadata": {
        "colab": {
          "base_uri": "https://localhost:8080/"
        },
        "id": "yKEg8VoFXVo_",
        "outputId": "f4c67797-a6ee-4dbe-dace-3f903dfb31ae"
      },
      "execution_count": 28,
      "outputs": [
        {
          "output_type": "stream",
          "name": "stdout",
          "text": [
            "epoch 1: w = 2.000, loss = 0.00000033\n",
            "epoch 2: w = 2.000, loss = 0.00000005\n",
            "epoch 3: w = 2.000, loss = 0.00000001\n",
            "epoch 4: w = 2.000, loss = 0.00000000\n",
            "epoch 5: w = 2.000, loss = 0.00000000\n",
            "epoch 6: w = 2.000, loss = 0.00000000\n",
            "epoch 7: w = 2.000, loss = 0.00000000\n",
            "epoch 8: w = 2.000, loss = 0.00000000\n",
            "epoch 9: w = 2.000, loss = 0.00000000\n",
            "epoch 10: w = 2.000, loss = 0.00000000\n",
            "epoch 11: w = 2.000, loss = 0.00000000\n",
            "epoch 12: w = 2.000, loss = 0.00000000\n",
            "epoch 13: w = 2.000, loss = 0.00000000\n",
            "epoch 14: w = 2.000, loss = 0.00000000\n",
            "epoch 15: w = 2.000, loss = 0.00000000\n",
            "epoch 16: w = 2.000, loss = 0.00000000\n",
            "epoch 17: w = 2.000, loss = 0.00000000\n",
            "epoch 18: w = 2.000, loss = 0.00000000\n",
            "epoch 19: w = 2.000, loss = 0.00000000\n",
            "epoch 20: w = 2.000, loss = 0.00000000\n"
          ]
        }
      ]
    },
    {
      "cell_type": "code",
      "source": [
        "print(f'Prediction after training: f(5) = {forward(5):.3f}')"
      ],
      "metadata": {
        "colab": {
          "base_uri": "https://localhost:8080/"
        },
        "id": "wIf_pnaWYVv-",
        "outputId": "bc00c5c8-2ccb-4b14-98be-7b9780ff2ac5"
      },
      "execution_count": 29,
      "outputs": [
        {
          "output_type": "stream",
          "name": "stdout",
          "text": [
            "Prediction after training: f(5) = 10.000\n"
          ]
        }
      ]
    },
    {
      "cell_type": "markdown",
      "source": [
        "# Gradient descent with Autograd and Back propagation"
      ],
      "metadata": {
        "id": "vaf9-RAld0SA"
      }
    },
    {
      "cell_type": "code",
      "source": [
        "x = torch.tensor([1, 2, 3, 4], dtype=torch.float32)\n",
        "y = torch.tensor([2, 4, 6, 8], dtype=torch.float32)"
      ],
      "metadata": {
        "id": "xd5YyifnYWq9"
      },
      "execution_count": 30,
      "outputs": []
    },
    {
      "cell_type": "code",
      "source": [
        "w = torch.tensor(0.0, dtype=torch.float32, requires_grad=True)"
      ],
      "metadata": {
        "id": "VEU7sX2LeRCA"
      },
      "execution_count": 31,
      "outputs": []
    },
    {
      "cell_type": "code",
      "source": [
        "def forward(x):\n",
        "  return w * x"
      ],
      "metadata": {
        "id": "KCHtcKeHegYC"
      },
      "execution_count": 32,
      "outputs": []
    },
    {
      "cell_type": "code",
      "source": [
        "def loss(y, y_predicted):\n",
        "  return ((y_predicted-y)**2).mean()"
      ],
      "metadata": {
        "id": "-LgVVq8eepPx"
      },
      "execution_count": 33,
      "outputs": []
    },
    {
      "cell_type": "code",
      "source": [
        "print(f'Prediction before training: f(5) = {forward(5):.3f}')"
      ],
      "metadata": {
        "id": "b3yka2WKe3NS",
        "outputId": "1bf46232-c2d6-406a-9540-2bdf9f069dc5",
        "colab": {
          "base_uri": "https://localhost:8080/"
        }
      },
      "execution_count": 34,
      "outputs": [
        {
          "output_type": "stream",
          "name": "stdout",
          "text": [
            "Prediction before training: f(5) = 0.000\n"
          ]
        }
      ]
    },
    {
      "cell_type": "code",
      "source": [
        "learning_rate = 0.01\n",
        "n_iters = 100"
      ],
      "metadata": {
        "id": "-cYqjTozfAZV"
      },
      "execution_count": 36,
      "outputs": []
    },
    {
      "cell_type": "code",
      "source": [
        "for epoch in range(n_iters):\n",
        "  y_pred = forward(x)\n",
        "  l = loss(y, y_pred)\n",
        "  l.backward()\n",
        "\n",
        "  with torch.no_grad():\n",
        "    w -= learning_rate * w.grad\n",
        "\n",
        "  w.grad.zero_()\n",
        "  if epoch % 10 == 0:\n",
        "    print(f'epoch {epoch+1}: w = {w:.3f}, loss = {l:.8f}')\n",
        "\n",
        "print(f'Prediction before training: f(5) = {forward(5):.3f}')"
      ],
      "metadata": {
        "id": "loJT46_qfLGk",
        "outputId": "4fd543c4-caef-4d06-b349-d63a36692d6b",
        "colab": {
          "base_uri": "https://localhost:8080/"
        }
      },
      "execution_count": 37,
      "outputs": [
        {
          "output_type": "stream",
          "name": "stdout",
          "text": [
            "epoch 1: w = 0.300, loss = 30.00000000\n",
            "epoch 11: w = 1.665, loss = 1.16278565\n",
            "epoch 21: w = 1.934, loss = 0.04506890\n",
            "epoch 31: w = 1.987, loss = 0.00174685\n",
            "epoch 41: w = 1.997, loss = 0.00006770\n",
            "epoch 51: w = 1.999, loss = 0.00000262\n",
            "epoch 61: w = 2.000, loss = 0.00000010\n",
            "epoch 71: w = 2.000, loss = 0.00000000\n",
            "epoch 81: w = 2.000, loss = 0.00000000\n",
            "epoch 91: w = 2.000, loss = 0.00000000\n",
            "Prediction before training: f(5) = 10.000\n"
          ]
        }
      ]
    },
    {
      "cell_type": "code",
      "source": [],
      "metadata": {
        "id": "QLEGM7ucggRo"
      },
      "execution_count": null,
      "outputs": []
    }
  ]
}